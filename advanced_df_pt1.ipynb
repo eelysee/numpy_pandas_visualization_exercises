{
 "cells": [
  {
   "cell_type": "code",
   "execution_count": 1,
   "id": "0b13ea0a",
   "metadata": {},
   "outputs": [
    {
     "data": {
      "application/javascript": [
       "IPython.notebook.set_autosave_interval(0)"
      ]
     },
     "metadata": {},
     "output_type": "display_data"
    },
    {
     "name": "stdout",
     "output_type": "stream",
     "text": [
      "Autosave disabled\n"
     ]
    }
   ],
   "source": [
    "%autosave 0"
   ]
  },
  {
   "cell_type": "code",
   "execution_count": 2,
   "id": "8b87b011",
   "metadata": {},
   "outputs": [],
   "source": [
    "import pandas as pd\n",
    "from sqlalchemy import text, create_engine\n",
    "\n",
    "from env import get_connection"
   ]
  },
  {
   "cell_type": "markdown",
   "id": "d7dddc5c",
   "metadata": {},
   "source": [
    "We can create dataframes from..\n",
    "- Dictionaries\n",
    "- SQL queries!"
   ]
  },
  {
   "cell_type": "code",
   "execution_count": null,
   "id": "1ba09e88",
   "metadata": {},
   "outputs": [],
   "source": []
  },
  {
   "cell_type": "markdown",
   "id": "0871fbca",
   "metadata": {},
   "source": [
    "In order to run a SQL query against Codeup's database, we need a number of things:\n",
    "- A URL with our credentials and desired database\n",
    "- A SQLAlchemy engine object created on the URL\n",
    "- A SQL query as a text object\n",
    "- Run pd.read_sql() with the query and the engine.connect()"
   ]
  },
  {
   "cell_type": "markdown",
   "id": "8266068e",
   "metadata": {},
   "source": [
    "We will use the farmers_market database on Codeup's SQL server.\n",
    "\n",
    "We will run the following query:\n",
    "\n",
    "SELECT *  \n",
    "\n",
    "FROM customer_purchases  \n",
    "\n",
    "INNER JOIN product ON customer_purchases.product_id = product.product_id"
   ]
  },
  {
   "cell_type": "code",
   "execution_count": null,
   "id": "816dacef",
   "metadata": {},
   "outputs": [],
   "source": []
  },
  {
   "cell_type": "markdown",
   "id": "16eee736",
   "metadata": {},
   "source": [
    "Boolean masking will not make a triumphant return but it's still relevant!\n",
    "\n",
    "We can subset our dataframe using .loc and .iloc:\n",
    "- .loc will use labels to access specific rows/columns\n",
    "- .iloc will use index positions to access specific rows/columns"
   ]
  },
  {
   "cell_type": "code",
   "execution_count": null,
   "id": "69f57e82",
   "metadata": {},
   "outputs": [],
   "source": []
  },
  {
   "cell_type": "markdown",
   "id": "c50d4fe5",
   "metadata": {},
   "source": [
    "We can use the .agg() method to perform a specified aggregate function on one column!\n",
    "\n",
    "We can pass in a list of columns to aggregate and/or perform a list of aggregate functions!"
   ]
  },
  {
   "cell_type": "code",
   "execution_count": null,
   "id": "c660c475",
   "metadata": {},
   "outputs": [],
   "source": []
  },
  {
   "cell_type": "markdown",
   "id": "a4e66b44",
   "metadata": {},
   "source": [
    "We can use the .groupby() method to consider the unique values in a column.\n",
    "\n",
    "We then specify a second column on which to perform some aggregate calculations!"
   ]
  },
  {
   "cell_type": "code",
   "execution_count": null,
   "id": "0c633e10",
   "metadata": {},
   "outputs": [],
   "source": []
  },
  {
   "cell_type": "markdown",
   "id": "c949f1bb",
   "metadata": {},
   "source": [
    "The .transform() method returns an aggregate calculation, where the result is the same length as the dataframe!"
   ]
  },
  {
   "cell_type": "code",
   "execution_count": null,
   "id": "bc8b34bb",
   "metadata": {},
   "outputs": [],
   "source": []
  }
 ],
 "metadata": {
  "kernelspec": {
   "display_name": "Python 3 (ipykernel)",
   "language": "python",
   "name": "python3"
  },
  "language_info": {
   "codemirror_mode": {
    "name": "ipython",
    "version": 3
   },
   "file_extension": ".py",
   "mimetype": "text/x-python",
   "name": "python",
   "nbconvert_exporter": "python",
   "pygments_lexer": "ipython3",
   "version": "3.9.12"
  }
 },
 "nbformat": 4,
 "nbformat_minor": 5
}
