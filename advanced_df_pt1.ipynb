{
 "cells": [
  {
   "cell_type": "code",
   "execution_count": 1,
   "id": "0b13ea0a",
   "metadata": {},
   "outputs": [
    {
     "data": {
      "application/javascript": "IPython.notebook.set_autosave_interval(0)"
     },
     "metadata": {},
     "output_type": "display_data"
    },
    {
     "name": "stdout",
     "output_type": "stream",
     "text": [
      "Autosave disabled\n"
     ]
    }
   ],
   "source": [
    "%autosave 0"
   ]
  },
  {
   "cell_type": "code",
   "execution_count": 47,
   "id": "8b87b011",
   "metadata": {},
   "outputs": [],
   "source": [
    "import pandas as pd\n",
    "import numpy as np\n",
    "from sqlalchemy import text, create_engine\n",
    "\n",
    "from env import get_connection"
   ]
  },
  {
   "cell_type": "markdown",
   "id": "d7dddc5c",
   "metadata": {},
   "source": [
    "We can create dataframes from..\n",
    "- Dictionaries\n",
    "- SQL queries!"
   ]
  },
  {
   "cell_type": "code",
   "execution_count": 3,
   "id": "1ba09e88",
   "metadata": {},
   "outputs": [
    {
     "data": {
      "text/html": [
       "<div>\n",
       "<style scoped>\n",
       "    .dataframe tbody tr th:only-of-type {\n",
       "        vertical-align: middle;\n",
       "    }\n",
       "\n",
       "    .dataframe tbody tr th {\n",
       "        vertical-align: top;\n",
       "    }\n",
       "\n",
       "    .dataframe thead th {\n",
       "        text-align: right;\n",
       "    }\n",
       "</style>\n",
       "<table border=\"1\" class=\"dataframe\">\n",
       "  <thead>\n",
       "    <tr style=\"text-align: right;\">\n",
       "      <th></th>\n",
       "      <th>Name</th>\n",
       "      <th>Eyewear</th>\n",
       "    </tr>\n",
       "  </thead>\n",
       "  <tbody>\n",
       "    <tr>\n",
       "      <th>0</th>\n",
       "      <td>Edwige</td>\n",
       "      <td>glasses</td>\n",
       "    </tr>\n",
       "    <tr>\n",
       "      <th>1</th>\n",
       "      <td>Adam</td>\n",
       "      <td>glasses</td>\n",
       "    </tr>\n",
       "    <tr>\n",
       "      <th>2</th>\n",
       "      <td>Theo</td>\n",
       "      <td>glasses</td>\n",
       "    </tr>\n",
       "    <tr>\n",
       "      <th>3</th>\n",
       "      <td>Nisha</td>\n",
       "      <td>none</td>\n",
       "    </tr>\n",
       "  </tbody>\n",
       "</table>\n",
       "</div>"
      ],
      "text/plain": [
       "     Name  Eyewear\n",
       "0  Edwige  glasses\n",
       "1    Adam  glasses\n",
       "2    Theo  glasses\n",
       "3   Nisha     none"
      ]
     },
     "execution_count": 3,
     "metadata": {},
     "output_type": "execute_result"
    }
   ],
   "source": [
    "# Datafrane from a disctionary\n",
    "pd.DataFrame({'Name':['Edwige', 'Adam', 'Theo', 'Nisha'] , 'Eyewear': ['glasses' , 'glasses' , 'glasses' , 'none']})"
   ]
  },
  {
   "cell_type": "markdown",
   "id": "0871fbca",
   "metadata": {},
   "source": [
    "In order to run a SQL query against Codeup's database, we need a number of things:\n",
    "- A URL with our credentials and desired database\n",
    "- A SQLAlchemy engine object created on the URL\n",
    "- A SQL query as a text object\n",
    "- Run pd.read_sql() with the query and the engine.connect()"
   ]
  },
  {
   "cell_type": "code",
   "execution_count": 4,
   "id": "c2816e02",
   "metadata": {},
   "outputs": [],
   "source": [
    "url = get_connection('farmers_market')"
   ]
  },
  {
   "cell_type": "code",
   "execution_count": 5,
   "id": "67f68575",
   "metadata": {},
   "outputs": [],
   "source": [
    "engine = create_engine(url)"
   ]
  },
  {
   "cell_type": "code",
   "execution_count": 8,
   "id": "c23c666f",
   "metadata": {},
   "outputs": [],
   "source": [
    "query = '''\n",
    "\n",
    "SELECT *\n",
    "FROM customer_purchases\n",
    "INNER JOIN product ON customer_purchases.product_id = product.product_id\n",
    "\n",
    "'''"
   ]
  },
  {
   "cell_type": "code",
   "execution_count": 9,
   "id": "01da7bb1",
   "metadata": {},
   "outputs": [],
   "source": [
    "text_query = text(query)"
   ]
  },
  {
   "cell_type": "code",
   "execution_count": 10,
   "id": "e5240b87",
   "metadata": {},
   "outputs": [
    {
     "data": {
      "text/html": [
       "<div>\n",
       "<style scoped>\n",
       "    .dataframe tbody tr th:only-of-type {\n",
       "        vertical-align: middle;\n",
       "    }\n",
       "\n",
       "    .dataframe tbody tr th {\n",
       "        vertical-align: top;\n",
       "    }\n",
       "\n",
       "    .dataframe thead th {\n",
       "        text-align: right;\n",
       "    }\n",
       "</style>\n",
       "<table border=\"1\" class=\"dataframe\">\n",
       "  <thead>\n",
       "    <tr style=\"text-align: right;\">\n",
       "      <th></th>\n",
       "      <th>product_id</th>\n",
       "      <th>vendor_id</th>\n",
       "      <th>market_date</th>\n",
       "      <th>customer_id</th>\n",
       "      <th>quantity</th>\n",
       "      <th>cost_to_customer_per_qty</th>\n",
       "      <th>transaction_time</th>\n",
       "      <th>product_id</th>\n",
       "      <th>product_name</th>\n",
       "      <th>product_size</th>\n",
       "      <th>product_category_id</th>\n",
       "      <th>product_qty_type</th>\n",
       "    </tr>\n",
       "  </thead>\n",
       "  <tbody>\n",
       "    <tr>\n",
       "      <th>0</th>\n",
       "      <td>1</td>\n",
       "      <td>7</td>\n",
       "      <td>2019-07-03</td>\n",
       "      <td>14</td>\n",
       "      <td>0.99</td>\n",
       "      <td>6.99</td>\n",
       "      <td>0 days 17:32:00</td>\n",
       "      <td>1</td>\n",
       "      <td>Habanero Peppers - Organic</td>\n",
       "      <td>medium</td>\n",
       "      <td>1</td>\n",
       "      <td>lbs</td>\n",
       "    </tr>\n",
       "    <tr>\n",
       "      <th>1</th>\n",
       "      <td>1</td>\n",
       "      <td>7</td>\n",
       "      <td>2019-07-03</td>\n",
       "      <td>14</td>\n",
       "      <td>2.18</td>\n",
       "      <td>6.99</td>\n",
       "      <td>0 days 18:23:00</td>\n",
       "      <td>1</td>\n",
       "      <td>Habanero Peppers - Organic</td>\n",
       "      <td>medium</td>\n",
       "      <td>1</td>\n",
       "      <td>lbs</td>\n",
       "    </tr>\n",
       "    <tr>\n",
       "      <th>2</th>\n",
       "      <td>1</td>\n",
       "      <td>7</td>\n",
       "      <td>2019-07-03</td>\n",
       "      <td>15</td>\n",
       "      <td>1.53</td>\n",
       "      <td>6.99</td>\n",
       "      <td>0 days 18:41:00</td>\n",
       "      <td>1</td>\n",
       "      <td>Habanero Peppers - Organic</td>\n",
       "      <td>medium</td>\n",
       "      <td>1</td>\n",
       "      <td>lbs</td>\n",
       "    </tr>\n",
       "    <tr>\n",
       "      <th>3</th>\n",
       "      <td>1</td>\n",
       "      <td>7</td>\n",
       "      <td>2019-07-03</td>\n",
       "      <td>16</td>\n",
       "      <td>2.02</td>\n",
       "      <td>6.99</td>\n",
       "      <td>0 days 18:18:00</td>\n",
       "      <td>1</td>\n",
       "      <td>Habanero Peppers - Organic</td>\n",
       "      <td>medium</td>\n",
       "      <td>1</td>\n",
       "      <td>lbs</td>\n",
       "    </tr>\n",
       "    <tr>\n",
       "      <th>4</th>\n",
       "      <td>1</td>\n",
       "      <td>7</td>\n",
       "      <td>2019-07-03</td>\n",
       "      <td>22</td>\n",
       "      <td>0.66</td>\n",
       "      <td>6.99</td>\n",
       "      <td>0 days 17:34:00</td>\n",
       "      <td>1</td>\n",
       "      <td>Habanero Peppers - Organic</td>\n",
       "      <td>medium</td>\n",
       "      <td>1</td>\n",
       "      <td>lbs</td>\n",
       "    </tr>\n",
       "  </tbody>\n",
       "</table>\n",
       "</div>"
      ],
      "text/plain": [
       "   product_id  vendor_id market_date  customer_id  quantity  \\\n",
       "0           1          7  2019-07-03           14      0.99   \n",
       "1           1          7  2019-07-03           14      2.18   \n",
       "2           1          7  2019-07-03           15      1.53   \n",
       "3           1          7  2019-07-03           16      2.02   \n",
       "4           1          7  2019-07-03           22      0.66   \n",
       "\n",
       "   cost_to_customer_per_qty transaction_time  product_id  \\\n",
       "0                      6.99  0 days 17:32:00           1   \n",
       "1                      6.99  0 days 18:23:00           1   \n",
       "2                      6.99  0 days 18:41:00           1   \n",
       "3                      6.99  0 days 18:18:00           1   \n",
       "4                      6.99  0 days 17:34:00           1   \n",
       "\n",
       "                 product_name product_size  product_category_id  \\\n",
       "0  Habanero Peppers - Organic       medium                    1   \n",
       "1  Habanero Peppers - Organic       medium                    1   \n",
       "2  Habanero Peppers - Organic       medium                    1   \n",
       "3  Habanero Peppers - Organic       medium                    1   \n",
       "4  Habanero Peppers - Organic       medium                    1   \n",
       "\n",
       "  product_qty_type  \n",
       "0              lbs  \n",
       "1              lbs  \n",
       "2              lbs  \n",
       "3              lbs  \n",
       "4              lbs  "
      ]
     },
     "execution_count": 10,
     "metadata": {},
     "output_type": "execute_result"
    }
   ],
   "source": [
    "df = pd.read_sql(text_query, engine.connect())\n",
    "df.head()"
   ]
  },
  {
   "cell_type": "markdown",
   "id": "8266068e",
   "metadata": {},
   "source": [
    "We will use the farmers_market database on Codeup's SQL server.\n",
    "\n",
    "We will run the following query:\n",
    "\n",
    "SELECT *  \n",
    "\n",
    "FROM customer_purchases  \n",
    "\n",
    "INNER JOIN product ON customer_purchases.product_id = product.product_id"
   ]
  },
  {
   "cell_type": "code",
   "execution_count": 11,
   "id": "816dacef",
   "metadata": {},
   "outputs": [
    {
     "name": "stdout",
     "output_type": "stream",
     "text": [
      "<class 'pandas.core.frame.DataFrame'>\n",
      "RangeIndex: 4221 entries, 0 to 4220\n",
      "Data columns (total 12 columns):\n",
      " #   Column                    Non-Null Count  Dtype          \n",
      "---  ------                    --------------  -----          \n",
      " 0   product_id                4221 non-null   int64          \n",
      " 1   vendor_id                 4221 non-null   int64          \n",
      " 2   market_date               4221 non-null   object         \n",
      " 3   customer_id               4221 non-null   int64          \n",
      " 4   quantity                  4221 non-null   float64        \n",
      " 5   cost_to_customer_per_qty  4221 non-null   float64        \n",
      " 6   transaction_time          4221 non-null   timedelta64[ns]\n",
      " 7   product_id                4221 non-null   int64          \n",
      " 8   product_name              4221 non-null   object         \n",
      " 9   product_size              4221 non-null   object         \n",
      " 10  product_category_id       4221 non-null   int64          \n",
      " 11  product_qty_type          4221 non-null   object         \n",
      "dtypes: float64(2), int64(5), object(4), timedelta64[ns](1)\n",
      "memory usage: 395.8+ KB\n"
     ]
    }
   ],
   "source": [
    "df.info()"
   ]
  },
  {
   "cell_type": "markdown",
   "id": "16eee736",
   "metadata": {},
   "source": [
    "Boolean masking will not make a triumphant return but it's still relevant!\n",
    "\n",
    "We can subset our dataframe using .loc and .iloc:\n",
    "- .loc will use labels to access specific rows/columns\n",
    "- .iloc will use index positions to access specific rows/columns"
   ]
  },
  {
   "cell_type": "code",
   "execution_count": 13,
   "id": "69f57e82",
   "metadata": {},
   "outputs": [
    {
     "data": {
      "text/html": [
       "<div>\n",
       "<style scoped>\n",
       "    .dataframe tbody tr th:only-of-type {\n",
       "        vertical-align: middle;\n",
       "    }\n",
       "\n",
       "    .dataframe tbody tr th {\n",
       "        vertical-align: top;\n",
       "    }\n",
       "\n",
       "    .dataframe thead th {\n",
       "        text-align: right;\n",
       "    }\n",
       "</style>\n",
       "<table border=\"1\" class=\"dataframe\">\n",
       "  <thead>\n",
       "    <tr style=\"text-align: right;\">\n",
       "      <th></th>\n",
       "      <th>vendor_id</th>\n",
       "      <th>market_date</th>\n",
       "      <th>customer_id</th>\n",
       "      <th>quantity</th>\n",
       "      <th>cost_to_customer_per_qty</th>\n",
       "      <th>transaction_time</th>\n",
       "    </tr>\n",
       "  </thead>\n",
       "  <tbody>\n",
       "    <tr>\n",
       "      <th>0</th>\n",
       "      <td>7</td>\n",
       "      <td>2019-07-03</td>\n",
       "      <td>14</td>\n",
       "      <td>0.99</td>\n",
       "      <td>6.99</td>\n",
       "      <td>0 days 17:32:00</td>\n",
       "    </tr>\n",
       "    <tr>\n",
       "      <th>1</th>\n",
       "      <td>7</td>\n",
       "      <td>2019-07-03</td>\n",
       "      <td>14</td>\n",
       "      <td>2.18</td>\n",
       "      <td>6.99</td>\n",
       "      <td>0 days 18:23:00</td>\n",
       "    </tr>\n",
       "    <tr>\n",
       "      <th>2</th>\n",
       "      <td>7</td>\n",
       "      <td>2019-07-03</td>\n",
       "      <td>15</td>\n",
       "      <td>1.53</td>\n",
       "      <td>6.99</td>\n",
       "      <td>0 days 18:41:00</td>\n",
       "    </tr>\n",
       "    <tr>\n",
       "      <th>3</th>\n",
       "      <td>7</td>\n",
       "      <td>2019-07-03</td>\n",
       "      <td>16</td>\n",
       "      <td>2.02</td>\n",
       "      <td>6.99</td>\n",
       "      <td>0 days 18:18:00</td>\n",
       "    </tr>\n",
       "    <tr>\n",
       "      <th>4</th>\n",
       "      <td>7</td>\n",
       "      <td>2019-07-03</td>\n",
       "      <td>22</td>\n",
       "      <td>0.66</td>\n",
       "      <td>6.99</td>\n",
       "      <td>0 days 17:34:00</td>\n",
       "    </tr>\n",
       "  </tbody>\n",
       "</table>\n",
       "</div>"
      ],
      "text/plain": [
       "   vendor_id market_date  customer_id  quantity  cost_to_customer_per_qty  \\\n",
       "0          7  2019-07-03           14      0.99                      6.99   \n",
       "1          7  2019-07-03           14      2.18                      6.99   \n",
       "2          7  2019-07-03           15      1.53                      6.99   \n",
       "3          7  2019-07-03           16      2.02                      6.99   \n",
       "4          7  2019-07-03           22      0.66                      6.99   \n",
       "\n",
       "  transaction_time  \n",
       "0  0 days 17:32:00  \n",
       "1  0 days 18:23:00  \n",
       "2  0 days 18:41:00  \n",
       "3  0 days 18:18:00  \n",
       "4  0 days 17:34:00  "
      ]
     },
     "execution_count": 13,
     "metadata": {},
     "output_type": "execute_result"
    }
   ],
   "source": [
    "df.loc[:, 'vendor_id' : 'transaction_time'].head()"
   ]
  },
  {
   "cell_type": "code",
   "execution_count": 21,
   "id": "3ea1b65f",
   "metadata": {},
   "outputs": [
    {
     "data": {
      "text/html": [
       "<div>\n",
       "<style scoped>\n",
       "    .dataframe tbody tr th:only-of-type {\n",
       "        vertical-align: middle;\n",
       "    }\n",
       "\n",
       "    .dataframe tbody tr th {\n",
       "        vertical-align: top;\n",
       "    }\n",
       "\n",
       "    .dataframe thead th {\n",
       "        text-align: right;\n",
       "    }\n",
       "</style>\n",
       "<table border=\"1\" class=\"dataframe\">\n",
       "  <thead>\n",
       "    <tr style=\"text-align: right;\">\n",
       "      <th></th>\n",
       "      <th>vendor_id</th>\n",
       "      <th>market_date</th>\n",
       "      <th>customer_id</th>\n",
       "      <th>quantity</th>\n",
       "      <th>cost_to_customer_per_qty</th>\n",
       "      <th>transaction_time</th>\n",
       "    </tr>\n",
       "  </thead>\n",
       "  <tbody>\n",
       "    <tr>\n",
       "      <th>5</th>\n",
       "      <td>7</td>\n",
       "      <td>2019-07-06</td>\n",
       "      <td>4</td>\n",
       "      <td>0.27</td>\n",
       "      <td>6.99</td>\n",
       "      <td>0 days 12:20:00</td>\n",
       "    </tr>\n",
       "    <tr>\n",
       "      <th>6</th>\n",
       "      <td>7</td>\n",
       "      <td>2019-07-06</td>\n",
       "      <td>12</td>\n",
       "      <td>3.60</td>\n",
       "      <td>6.99</td>\n",
       "      <td>0 days 09:33:00</td>\n",
       "    </tr>\n",
       "    <tr>\n",
       "      <th>7</th>\n",
       "      <td>7</td>\n",
       "      <td>2019-07-06</td>\n",
       "      <td>14</td>\n",
       "      <td>3.04</td>\n",
       "      <td>6.99</td>\n",
       "      <td>0 days 13:05:00</td>\n",
       "    </tr>\n",
       "    <tr>\n",
       "      <th>8</th>\n",
       "      <td>7</td>\n",
       "      <td>2019-07-06</td>\n",
       "      <td>23</td>\n",
       "      <td>1.49</td>\n",
       "      <td>6.99</td>\n",
       "      <td>0 days 12:26:00</td>\n",
       "    </tr>\n",
       "    <tr>\n",
       "      <th>9</th>\n",
       "      <td>7</td>\n",
       "      <td>2019-07-06</td>\n",
       "      <td>23</td>\n",
       "      <td>2.56</td>\n",
       "      <td>6.99</td>\n",
       "      <td>0 days 12:46:00</td>\n",
       "    </tr>\n",
       "    <tr>\n",
       "      <th>10</th>\n",
       "      <td>7</td>\n",
       "      <td>2019-07-10</td>\n",
       "      <td>3</td>\n",
       "      <td>2.48</td>\n",
       "      <td>6.99</td>\n",
       "      <td>0 days 18:40:00</td>\n",
       "    </tr>\n",
       "  </tbody>\n",
       "</table>\n",
       "</div>"
      ],
      "text/plain": [
       "    vendor_id market_date  customer_id  quantity  cost_to_customer_per_qty  \\\n",
       "5           7  2019-07-06            4      0.27                      6.99   \n",
       "6           7  2019-07-06           12      3.60                      6.99   \n",
       "7           7  2019-07-06           14      3.04                      6.99   \n",
       "8           7  2019-07-06           23      1.49                      6.99   \n",
       "9           7  2019-07-06           23      2.56                      6.99   \n",
       "10          7  2019-07-10            3      2.48                      6.99   \n",
       "\n",
       "   transaction_time  \n",
       "5   0 days 12:20:00  \n",
       "6   0 days 09:33:00  \n",
       "7   0 days 13:05:00  \n",
       "8   0 days 12:26:00  \n",
       "9   0 days 12:46:00  \n",
       "10  0 days 18:40:00  "
      ]
     },
     "execution_count": 21,
     "metadata": {},
     "output_type": "execute_result"
    }
   ],
   "source": [
    "df.loc[5:10, 'vendor_id': 'transaction_time']"
   ]
  },
  {
   "cell_type": "code",
   "execution_count": 19,
   "id": "40d664e5",
   "metadata": {},
   "outputs": [
    {
     "data": {
      "text/html": [
       "<div>\n",
       "<style scoped>\n",
       "    .dataframe tbody tr th:only-of-type {\n",
       "        vertical-align: middle;\n",
       "    }\n",
       "\n",
       "    .dataframe tbody tr th {\n",
       "        vertical-align: top;\n",
       "    }\n",
       "\n",
       "    .dataframe thead th {\n",
       "        text-align: right;\n",
       "    }\n",
       "</style>\n",
       "<table border=\"1\" class=\"dataframe\">\n",
       "  <thead>\n",
       "    <tr style=\"text-align: right;\">\n",
       "      <th></th>\n",
       "      <th>customer_id</th>\n",
       "      <th>quantity</th>\n",
       "      <th>cost_to_customer_per_qty</th>\n",
       "      <th>transaction_time</th>\n",
       "      <th>product_id</th>\n",
       "    </tr>\n",
       "  </thead>\n",
       "  <tbody>\n",
       "    <tr>\n",
       "      <th>0</th>\n",
       "      <td>14</td>\n",
       "      <td>0.99</td>\n",
       "      <td>6.99</td>\n",
       "      <td>0 days 17:32:00</td>\n",
       "      <td>1</td>\n",
       "    </tr>\n",
       "    <tr>\n",
       "      <th>1</th>\n",
       "      <td>14</td>\n",
       "      <td>2.18</td>\n",
       "      <td>6.99</td>\n",
       "      <td>0 days 18:23:00</td>\n",
       "      <td>1</td>\n",
       "    </tr>\n",
       "    <tr>\n",
       "      <th>2</th>\n",
       "      <td>15</td>\n",
       "      <td>1.53</td>\n",
       "      <td>6.99</td>\n",
       "      <td>0 days 18:41:00</td>\n",
       "      <td>1</td>\n",
       "    </tr>\n",
       "    <tr>\n",
       "      <th>3</th>\n",
       "      <td>16</td>\n",
       "      <td>2.02</td>\n",
       "      <td>6.99</td>\n",
       "      <td>0 days 18:18:00</td>\n",
       "      <td>1</td>\n",
       "    </tr>\n",
       "    <tr>\n",
       "      <th>4</th>\n",
       "      <td>22</td>\n",
       "      <td>0.66</td>\n",
       "      <td>6.99</td>\n",
       "      <td>0 days 17:34:00</td>\n",
       "      <td>1</td>\n",
       "    </tr>\n",
       "  </tbody>\n",
       "</table>\n",
       "</div>"
      ],
      "text/plain": [
       "   customer_id  quantity  cost_to_customer_per_qty transaction_time  \\\n",
       "0           14      0.99                      6.99  0 days 17:32:00   \n",
       "1           14      2.18                      6.99  0 days 18:23:00   \n",
       "2           15      1.53                      6.99  0 days 18:41:00   \n",
       "3           16      2.02                      6.99  0 days 18:18:00   \n",
       "4           22      0.66                      6.99  0 days 17:34:00   \n",
       "\n",
       "   product_id  \n",
       "0           1  \n",
       "1           1  \n",
       "2           1  \n",
       "3           1  \n",
       "4           1  "
      ]
     },
     "execution_count": 19,
     "metadata": {},
     "output_type": "execute_result"
    }
   ],
   "source": [
    "df.iloc[:5, 3:8]"
   ]
  },
  {
   "cell_type": "code",
   "execution_count": 17,
   "id": "18762d91",
   "metadata": {},
   "outputs": [
    {
     "data": {
      "text/html": [
       "<div>\n",
       "<style scoped>\n",
       "    .dataframe tbody tr th:only-of-type {\n",
       "        vertical-align: middle;\n",
       "    }\n",
       "\n",
       "    .dataframe tbody tr th {\n",
       "        vertical-align: top;\n",
       "    }\n",
       "\n",
       "    .dataframe thead th {\n",
       "        text-align: right;\n",
       "    }\n",
       "</style>\n",
       "<table border=\"1\" class=\"dataframe\">\n",
       "  <thead>\n",
       "    <tr style=\"text-align: right;\">\n",
       "      <th></th>\n",
       "      <th>product_id</th>\n",
       "      <th>vendor_id</th>\n",
       "      <th>market_date</th>\n",
       "      <th>customer_id</th>\n",
       "      <th>quantity</th>\n",
       "      <th>cost_to_customer_per_qty</th>\n",
       "      <th>transaction_time</th>\n",
       "      <th>product_id</th>\n",
       "      <th>product_name</th>\n",
       "      <th>product_size</th>\n",
       "      <th>product_category_id</th>\n",
       "      <th>product_qty_type</th>\n",
       "    </tr>\n",
       "  </thead>\n",
       "  <tbody>\n",
       "    <tr>\n",
       "      <th>0</th>\n",
       "      <td>1</td>\n",
       "      <td>7</td>\n",
       "      <td>2019-07-03</td>\n",
       "      <td>14</td>\n",
       "      <td>0.99</td>\n",
       "      <td>6.99</td>\n",
       "      <td>0 days 17:32:00</td>\n",
       "      <td>1</td>\n",
       "      <td>Habanero Peppers - Organic</td>\n",
       "      <td>medium</td>\n",
       "      <td>1</td>\n",
       "      <td>lbs</td>\n",
       "    </tr>\n",
       "    <tr>\n",
       "      <th>1</th>\n",
       "      <td>1</td>\n",
       "      <td>7</td>\n",
       "      <td>2019-07-03</td>\n",
       "      <td>14</td>\n",
       "      <td>2.18</td>\n",
       "      <td>6.99</td>\n",
       "      <td>0 days 18:23:00</td>\n",
       "      <td>1</td>\n",
       "      <td>Habanero Peppers - Organic</td>\n",
       "      <td>medium</td>\n",
       "      <td>1</td>\n",
       "      <td>lbs</td>\n",
       "    </tr>\n",
       "    <tr>\n",
       "      <th>2</th>\n",
       "      <td>1</td>\n",
       "      <td>7</td>\n",
       "      <td>2019-07-03</td>\n",
       "      <td>15</td>\n",
       "      <td>1.53</td>\n",
       "      <td>6.99</td>\n",
       "      <td>0 days 18:41:00</td>\n",
       "      <td>1</td>\n",
       "      <td>Habanero Peppers - Organic</td>\n",
       "      <td>medium</td>\n",
       "      <td>1</td>\n",
       "      <td>lbs</td>\n",
       "    </tr>\n",
       "    <tr>\n",
       "      <th>3</th>\n",
       "      <td>1</td>\n",
       "      <td>7</td>\n",
       "      <td>2019-07-03</td>\n",
       "      <td>16</td>\n",
       "      <td>2.02</td>\n",
       "      <td>6.99</td>\n",
       "      <td>0 days 18:18:00</td>\n",
       "      <td>1</td>\n",
       "      <td>Habanero Peppers - Organic</td>\n",
       "      <td>medium</td>\n",
       "      <td>1</td>\n",
       "      <td>lbs</td>\n",
       "    </tr>\n",
       "    <tr>\n",
       "      <th>4</th>\n",
       "      <td>1</td>\n",
       "      <td>7</td>\n",
       "      <td>2019-07-03</td>\n",
       "      <td>22</td>\n",
       "      <td>0.66</td>\n",
       "      <td>6.99</td>\n",
       "      <td>0 days 17:34:00</td>\n",
       "      <td>1</td>\n",
       "      <td>Habanero Peppers - Organic</td>\n",
       "      <td>medium</td>\n",
       "      <td>1</td>\n",
       "      <td>lbs</td>\n",
       "    </tr>\n",
       "  </tbody>\n",
       "</table>\n",
       "</div>"
      ],
      "text/plain": [
       "   product_id  vendor_id market_date  customer_id  quantity  \\\n",
       "0           1          7  2019-07-03           14      0.99   \n",
       "1           1          7  2019-07-03           14      2.18   \n",
       "2           1          7  2019-07-03           15      1.53   \n",
       "3           1          7  2019-07-03           16      2.02   \n",
       "4           1          7  2019-07-03           22      0.66   \n",
       "\n",
       "   cost_to_customer_per_qty transaction_time  product_id  \\\n",
       "0                      6.99  0 days 17:32:00           1   \n",
       "1                      6.99  0 days 18:23:00           1   \n",
       "2                      6.99  0 days 18:41:00           1   \n",
       "3                      6.99  0 days 18:18:00           1   \n",
       "4                      6.99  0 days 17:34:00           1   \n",
       "\n",
       "                 product_name product_size  product_category_id  \\\n",
       "0  Habanero Peppers - Organic       medium                    1   \n",
       "1  Habanero Peppers - Organic       medium                    1   \n",
       "2  Habanero Peppers - Organic       medium                    1   \n",
       "3  Habanero Peppers - Organic       medium                    1   \n",
       "4  Habanero Peppers - Organic       medium                    1   \n",
       "\n",
       "  product_qty_type  \n",
       "0              lbs  \n",
       "1              lbs  \n",
       "2              lbs  \n",
       "3              lbs  \n",
       "4              lbs  "
      ]
     },
     "execution_count": 17,
     "metadata": {},
     "output_type": "execute_result"
    }
   ],
   "source": [
    "df.iloc[:5 , :]"
   ]
  },
  {
   "cell_type": "markdown",
   "id": "c50d4fe5",
   "metadata": {},
   "source": [
    "We can use the .agg() method to perform a specified aggregate function on one column!\n",
    "\n",
    "We can pass in a list of columns to aggregate and/or perform a list of aggregate functions!"
   ]
  },
  {
   "cell_type": "code",
   "execution_count": 22,
   "id": "c660c475",
   "metadata": {},
   "outputs": [
    {
     "data": {
      "text/html": [
       "<div>\n",
       "<style scoped>\n",
       "    .dataframe tbody tr th:only-of-type {\n",
       "        vertical-align: middle;\n",
       "    }\n",
       "\n",
       "    .dataframe tbody tr th {\n",
       "        vertical-align: top;\n",
       "    }\n",
       "\n",
       "    .dataframe thead th {\n",
       "        text-align: right;\n",
       "    }\n",
       "</style>\n",
       "<table border=\"1\" class=\"dataframe\">\n",
       "  <thead>\n",
       "    <tr style=\"text-align: right;\">\n",
       "      <th></th>\n",
       "      <th>product_id</th>\n",
       "      <th>vendor_id</th>\n",
       "      <th>market_date</th>\n",
       "      <th>customer_id</th>\n",
       "      <th>quantity</th>\n",
       "      <th>cost_to_customer_per_qty</th>\n",
       "      <th>transaction_time</th>\n",
       "      <th>product_id</th>\n",
       "      <th>product_name</th>\n",
       "      <th>product_size</th>\n",
       "      <th>product_category_id</th>\n",
       "      <th>product_qty_type</th>\n",
       "    </tr>\n",
       "  </thead>\n",
       "  <tbody>\n",
       "    <tr>\n",
       "      <th>0</th>\n",
       "      <td>1</td>\n",
       "      <td>7</td>\n",
       "      <td>2019-07-03</td>\n",
       "      <td>14</td>\n",
       "      <td>0.99</td>\n",
       "      <td>6.99</td>\n",
       "      <td>0 days 17:32:00</td>\n",
       "      <td>1</td>\n",
       "      <td>Habanero Peppers - Organic</td>\n",
       "      <td>medium</td>\n",
       "      <td>1</td>\n",
       "      <td>lbs</td>\n",
       "    </tr>\n",
       "  </tbody>\n",
       "</table>\n",
       "</div>"
      ],
      "text/plain": [
       "   product_id  vendor_id market_date  customer_id  quantity  \\\n",
       "0           1          7  2019-07-03           14      0.99   \n",
       "\n",
       "   cost_to_customer_per_qty transaction_time  product_id  \\\n",
       "0                      6.99  0 days 17:32:00           1   \n",
       "\n",
       "                 product_name product_size  product_category_id  \\\n",
       "0  Habanero Peppers - Organic       medium                    1   \n",
       "\n",
       "  product_qty_type  \n",
       "0              lbs  "
      ]
     },
     "execution_count": 22,
     "metadata": {},
     "output_type": "execute_result"
    }
   ],
   "source": [
    "df.head(1)"
   ]
  },
  {
   "cell_type": "code",
   "execution_count": 25,
   "id": "8db6a558",
   "metadata": {},
   "outputs": [],
   "source": [
    "df = df.assign(total_cost = df.quantity * df.cost_to_customer_per_qty)\n"
   ]
  },
  {
   "cell_type": "code",
   "execution_count": 30,
   "id": "0fc28217",
   "metadata": {},
   "outputs": [
    {
     "data": {
      "text/plain": [
       "mean     16.400648\n",
       "max     144.000000\n",
       "min       0.069800\n",
       "Name: total_cost, dtype: float64"
      ]
     },
     "execution_count": 30,
     "metadata": {},
     "output_type": "execute_result"
    }
   ],
   "source": [
    "df.total_cost.agg(['mean', 'max','min'] )"
   ]
  },
  {
   "cell_type": "code",
   "execution_count": 31,
   "id": "f89c5dfb",
   "metadata": {},
   "outputs": [
    {
     "data": {
      "text/plain": [
       "Index(['product_id', 'vendor_id', 'market_date', 'customer_id', 'quantity',\n",
       "       'cost_to_customer_per_qty', 'transaction_time', 'product_id',\n",
       "       'product_name', 'product_size', 'product_category_id',\n",
       "       'product_qty_type', 'total_cost'],\n",
       "      dtype='object')"
      ]
     },
     "execution_count": 31,
     "metadata": {},
     "output_type": "execute_result"
    }
   ],
   "source": [
    "df.columns"
   ]
  },
  {
   "cell_type": "code",
   "execution_count": 34,
   "id": "0c633e10",
   "metadata": {},
   "outputs": [
    {
     "data": {
      "text/html": [
       "<div>\n",
       "<style scoped>\n",
       "    .dataframe tbody tr th:only-of-type {\n",
       "        vertical-align: middle;\n",
       "    }\n",
       "\n",
       "    .dataframe tbody tr th {\n",
       "        vertical-align: top;\n",
       "    }\n",
       "\n",
       "    .dataframe thead th {\n",
       "        text-align: right;\n",
       "    }\n",
       "</style>\n",
       "<table border=\"1\" class=\"dataframe\">\n",
       "  <thead>\n",
       "    <tr style=\"text-align: right;\">\n",
       "      <th></th>\n",
       "      <th>quantity</th>\n",
       "      <th>total_cost</th>\n",
       "    </tr>\n",
       "  </thead>\n",
       "  <tbody>\n",
       "    <tr>\n",
       "      <th>mean</th>\n",
       "      <td>2.858112</td>\n",
       "      <td>16.400648</td>\n",
       "    </tr>\n",
       "    <tr>\n",
       "      <th>max</th>\n",
       "      <td>20.000000</td>\n",
       "      <td>144.000000</td>\n",
       "    </tr>\n",
       "    <tr>\n",
       "      <th>min</th>\n",
       "      <td>0.020000</td>\n",
       "      <td>0.069800</td>\n",
       "    </tr>\n",
       "  </tbody>\n",
       "</table>\n",
       "</div>"
      ],
      "text/plain": [
       "       quantity  total_cost\n",
       "mean   2.858112   16.400648\n",
       "max   20.000000  144.000000\n",
       "min    0.020000    0.069800"
      ]
     },
     "execution_count": 34,
     "metadata": {},
     "output_type": "execute_result"
    }
   ],
   "source": [
    "df[['quantity' , 'total_cost' ]].agg(['mean', 'max','min'])"
   ]
  },
  {
   "cell_type": "markdown",
   "id": "a4e66b44",
   "metadata": {},
   "source": [
    "We can use the .groupby() method to consider the unique values in a column.\n",
    "\n",
    "We then specify a second column on which to perform some aggregate calculations!"
   ]
  },
  {
   "cell_type": "code",
   "execution_count": 43,
   "id": "c1449d3e",
   "metadata": {},
   "outputs": [
    {
     "data": {
      "text/plain": [
       "product_name\n",
       "Apple Pie                     31.404930\n",
       "Banana Peppers - Jar          11.890672\n",
       "Cherry Pie                    31.867826\n",
       "Habanero Peppers - Organic    16.120788\n",
       "Jalapeno Peppers - Organic    10.749224\n",
       "Poblano Peppers - Organic      1.591040\n",
       "Sweet Corn                     2.540638\n",
       "Whole Wheat Bread             16.962217\n",
       "Name: total_cost, dtype: float64"
      ]
     },
     "execution_count": 43,
     "metadata": {},
     "output_type": "execute_result"
    }
   ],
   "source": [
    "df.groupby('product_name').total_cost.agg('mean')"
   ]
  },
  {
   "cell_type": "code",
   "execution_count": 44,
   "id": "9c68c08b",
   "metadata": {},
   "outputs": [
    {
     "data": {
      "text/plain": [
       "product_name       product_id  product_id  vendor_id  market_date  customer_id  quantity  cost_to_customer_per_qty  transaction_time  product_size  product_category_id  product_qty_type  total_cost\n",
       "Apple Pie          7           7           8          2019-04-03   9            1.0       18.0                      0 days 16:20:00   10\"           3                    unit              18.0          1\n",
       "                                                                                2.0       18.0                      0 days 17:08:00   10\"           3                    unit              36.0          1\n",
       "                                                      2020-10-07   24           3.0       18.0                      0 days 18:33:00   10\"           3                    unit              54.0          1\n",
       "                                                      2020-10-10   2            1.0       18.0                      0 days 12:59:00   10\"           3                    unit              18.0          1\n",
       "                                                                                2.0       18.0                      0 days 12:49:00   10\"           3                    unit              36.0          1\n",
       "                                                                                                                                                                                                        ..\n",
       "Whole Wheat Bread  5           5           8          2019-05-22   8            5.0       6.5                       0 days 17:11:00   1.5 lbs       3                    unit              32.5          1\n",
       "                                                                   9            1.0       6.5                       0 days 18:01:00   1.5 lbs       3                    unit              6.5           1\n",
       "                                                                                3.0       6.5                       0 days 18:03:00   1.5 lbs       3                    unit              19.5          1\n",
       "                                                                   11           4.0       6.5                       0 days 17:54:00   1.5 lbs       3                    unit              26.0          1\n",
       "                                                      2020-10-10   19           5.0       6.5                       0 days 12:20:00   1.5 lbs       3                    unit              32.5          1\n",
       "Length: 4221, dtype: int64"
      ]
     },
     "execution_count": 44,
     "metadata": {},
     "output_type": "execute_result"
    }
   ],
   "source": [
    "df.groupby('product_name').value_counts()"
   ]
  },
  {
   "cell_type": "code",
   "execution_count": 45,
   "id": "cb895cd8",
   "metadata": {},
   "outputs": [
    {
     "data": {
      "text/plain": [
       "product_name       total_cost\n",
       "Apple Pie          18.0          287\n",
       "                   36.0          172\n",
       "                   54.0           85\n",
       "                   72.0           16\n",
       "                   90.0            7\n",
       "                                ... \n",
       "Whole Wheat Bread  19.5          109\n",
       "                   32.5           84\n",
       "                   39.0            5\n",
       "                   45.5            4\n",
       "                   52.0            1\n",
       "Name: total_cost, Length: 435, dtype: int64"
      ]
     },
     "execution_count": 45,
     "metadata": {},
     "output_type": "execute_result"
    }
   ],
   "source": [
    "df.groupby('product_name').total_cost.value_counts()"
   ]
  },
  {
   "cell_type": "markdown",
   "id": "c949f1bb",
   "metadata": {},
   "source": [
    "The .transform() method returns an aggregate calculation, where the result is the same length as the dataframe!"
   ]
  },
  {
   "cell_type": "code",
   "execution_count": 46,
   "id": "bc8b34bb",
   "metadata": {},
   "outputs": [
    {
     "data": {
      "text/plain": [
       "0       16.120788\n",
       "1       16.120788\n",
       "2       16.120788\n",
       "3       16.120788\n",
       "4       16.120788\n",
       "          ...    \n",
       "4216     2.540638\n",
       "4217     2.540638\n",
       "4218     2.540638\n",
       "4219     2.540638\n",
       "4220     2.540638\n",
       "Name: total_cost, Length: 4221, dtype: float64"
      ]
     },
     "execution_count": 46,
     "metadata": {},
     "output_type": "execute_result"
    }
   ],
   "source": [
    "# Woudl have to combine this with the raw df to graph it on\n",
    "df.groupby('product_name').total_cost.transform('mean')"
   ]
  },
  {
   "cell_type": "markdown",
   "id": "ee94c853",
   "metadata": {},
   "source": [
    "We cna use np.where() to assign values based on a condition!"
   ]
  },
  {
   "cell_type": "code",
   "execution_count": 48,
   "id": "44ff4dca",
   "metadata": {},
   "outputs": [
    {
     "data": {
      "text/plain": [
       "array(['normal person', 'normal person', 'normal person', ...,\n",
       "       'normal person', 'normal person', 'normal person'], dtype='<U13')"
      ]
     },
     "execution_count": 48,
     "metadata": {},
     "output_type": "execute_result"
    }
   ],
   "source": [
    "np.where(df.total_cost > 100, 'big spender' , 'normal person')"
   ]
  }
 ],
 "metadata": {
  "kernelspec": {
   "display_name": "Python 3 (ipykernel)",
   "language": "python",
   "name": "python3"
  },
  "language_info": {
   "codemirror_mode": {
    "name": "ipython",
    "version": 3
   },
   "file_extension": ".py",
   "mimetype": "text/x-python",
   "name": "python",
   "nbconvert_exporter": "python",
   "pygments_lexer": "ipython3",
   "version": "3.10.9"
  }
 },
 "nbformat": 4,
 "nbformat_minor": 5
}
